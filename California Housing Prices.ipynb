{
 "cells": [
  {
   "cell_type": "markdown",
   "metadata": {},
   "source": [
    "# California housing prices\n",
    "\n",
    "\n",
    "### The purpose of this project is to build a model of housing prices in California using the California centrus dataset (data from 1990). This dataset has metrics for each block group (district), which is the smallest geoghaphical unit for which data was published.\n",
    "### The model should learn from this data and be able to predict the median housing price in any district, given all the other metrics.\n",
    "\n",
    "### Main steps that will be covered:\n",
    "1. __ Frame the problem and look at the big picture __ \n",
    "2. __ Get the data __ \n",
    "3. __ Discover and visualize the data to gain insights__ \n",
    "4. __ Prepare the data for ML algorithms__ \n",
    "5. __ Select a model and traint it__ \n",
    "6. __ Fine-tune the model__ \n",
    "7. __ Present the solution__ \n",
    "8. __ Launch, monitor, and mantain the system__ \n"
   ]
  },
  {
   "cell_type": "markdown",
   "metadata": {},
   "source": []
  },
  {
   "cell_type": "markdown",
   "metadata": {},
   "source": [
    "## 1. Frame the problem and look at the big picture\n",
    "\n",
    "#### 1. 1 Define the objective in business terms:\n",
    "__The output of the model will be used as input for another ML system, along with other signals. The downstream system will determine wether it is worth investing in a given area or not. __\n",
    "\n",
    "#### 1. 2 What are the current solutions (if any)?:\n",
    "__The district housing prices are estimated manually by experts. The process is expensive and time consuming, and the estimates are not great (off by more than 10%).__\n",
    "\n",
    "\n",
    "#### 1. 3 How should you frame the problem (supervised/unsupervised, batch/online etc)?:\n",
    "__This problem can be solved with a supervised learning algorithm as the data is labeled. Moreover, the algorithm can be a multivariate regression since we are asked to make a prediction. As it is not required to rapidly adapt the algorithm to new changes, batch learning can be used.__\n",
    "\n",
    "#### 1. 4 How the performance should be measured?:\n",
    "__This problem can be solved with a supervised learning algorithm as the data is labeled. Moreover, the algorithm can be a multivariate regression since we are asked to make a prediction. As it is not required to rapidly adapt the algorithm to new changes, batch learning can be used.__\n",
    "\n",
    "\n"
   ]
  },
  {
   "cell_type": "code",
   "execution_count": null,
   "metadata": {},
   "outputs": [],
   "source": []
  },
  {
   "cell_type": "code",
   "execution_count": null,
   "metadata": {},
   "outputs": [],
   "source": []
  }
 ],
 "metadata": {
  "kernelspec": {
   "display_name": "Python 3",
   "language": "python",
   "name": "python3"
  },
  "language_info": {
   "codemirror_mode": {
    "name": "ipython",
    "version": 3
   },
   "file_extension": ".py",
   "mimetype": "text/x-python",
   "name": "python",
   "nbconvert_exporter": "python",
   "pygments_lexer": "ipython3",
   "version": "3.5.5"
  }
 },
 "nbformat": 4,
 "nbformat_minor": 2
}
